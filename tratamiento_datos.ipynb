{
 "cells": [
  {
   "cell_type": "code",
   "execution_count": 2,
   "metadata": {},
   "outputs": [
    {
     "name": "stdout",
     "output_type": "stream",
     "text": [
      "Defaulting to user installation because normal site-packages is not writeable\n",
      "Collecting requests\n",
      "  Downloading requests-2.32.3-py3-none-any.whl.metadata (4.6 kB)\n",
      "Collecting charset-normalizer<4,>=2 (from requests)\n",
      "  Downloading charset_normalizer-3.4.1-cp311-cp311-manylinux_2_17_x86_64.manylinux2014_x86_64.whl.metadata (35 kB)\n",
      "Collecting idna<4,>=2.5 (from requests)\n",
      "  Downloading idna-3.10-py3-none-any.whl.metadata (10 kB)\n",
      "Collecting urllib3<3,>=1.21.1 (from requests)\n",
      "  Downloading urllib3-2.3.0-py3-none-any.whl.metadata (6.5 kB)\n",
      "Collecting certifi>=2017.4.17 (from requests)\n",
      "  Downloading certifi-2025.1.31-py3-none-any.whl.metadata (2.5 kB)\n",
      "Downloading requests-2.32.3-py3-none-any.whl (64 kB)\n",
      "\u001b[2K   \u001b[90m━━━━━━━━━━━━━━━━━━━━━━━━━━━━━━━━━━━━━━━━\u001b[0m \u001b[32m64.9/64.9 kB\u001b[0m \u001b[31m12.3 MB/s\u001b[0m eta \u001b[36m0:00:00\u001b[0m\n",
      "\u001b[?25hDownloading certifi-2025.1.31-py3-none-any.whl (166 kB)\n",
      "\u001b[2K   \u001b[90m━━━━━━━━━━━━━━━━━━━━━━━━━━━━━━━━━━━━━━━━\u001b[0m \u001b[32m166.4/166.4 kB\u001b[0m \u001b[31m18.0 MB/s\u001b[0m eta \u001b[36m0:00:00\u001b[0m\n",
      "\u001b[?25hDownloading charset_normalizer-3.4.1-cp311-cp311-manylinux_2_17_x86_64.manylinux2014_x86_64.whl (143 kB)\n",
      "\u001b[2K   \u001b[90m━━━━━━━━━━━━━━━━━━━━━━━━━━━━━━━━━━━━━━━━\u001b[0m \u001b[32m143.9/143.9 kB\u001b[0m \u001b[31m22.4 MB/s\u001b[0m eta \u001b[36m0:00:00\u001b[0m\n",
      "\u001b[?25hDownloading idna-3.10-py3-none-any.whl (70 kB)\n",
      "\u001b[2K   \u001b[90m━━━━━━━━━━━━━━━━━━━━━━━━━━━━━━━━━━━━━━━━\u001b[0m \u001b[32m70.4/70.4 kB\u001b[0m \u001b[31m13.4 MB/s\u001b[0m eta \u001b[36m0:00:00\u001b[0m\n",
      "\u001b[?25hDownloading urllib3-2.3.0-py3-none-any.whl (128 kB)\n",
      "\u001b[2K   \u001b[90m━━━━━━━━━━━━━━━━━━━━━━━━━━━━━━━━━━━━━━━━\u001b[0m \u001b[32m128.4/128.4 kB\u001b[0m \u001b[31m9.1 MB/s\u001b[0m eta \u001b[36m0:00:00\u001b[0m\n",
      "\u001b[?25hInstalling collected packages: urllib3, idna, charset-normalizer, certifi, requests\n",
      "Successfully installed certifi-2025.1.31 charset-normalizer-3.4.1 idna-3.10 requests-2.32.3 urllib3-2.3.0\n",
      "\n",
      "\u001b[1m[\u001b[0m\u001b[34;49mnotice\u001b[0m\u001b[1;39;49m]\u001b[0m\u001b[39;49m A new release of pip is available: \u001b[0m\u001b[31;49m24.0\u001b[0m\u001b[39;49m -> \u001b[0m\u001b[32;49m25.0.1\u001b[0m\n",
      "\u001b[1m[\u001b[0m\u001b[34;49mnotice\u001b[0m\u001b[1;39;49m]\u001b[0m\u001b[39;49m To update, run: \u001b[0m\u001b[32;49mpip install --upgrade pip\u001b[0m\n"
     ]
    }
   ],
   "source": [
    "!pip install requests"
   ]
  },
  {
   "cell_type": "code",
   "execution_count": 4,
   "metadata": {},
   "outputs": [
    {
     "name": "stdout",
     "output_type": "stream",
     "text": [
      "Defaulting to user installation because normal site-packages is not writeable\n",
      "Collecting pandas\n",
      "  Downloading pandas-2.2.3-cp311-cp311-manylinux_2_17_x86_64.manylinux2014_x86_64.whl.metadata (89 kB)\n",
      "\u001b[2K     \u001b[90m━━━━━━━━━━━━━━━━━━━━━━━━━━━━━━━━━━━━━━━━\u001b[0m \u001b[32m89.9/89.9 kB\u001b[0m \u001b[31m7.0 MB/s\u001b[0m eta \u001b[36m0:00:00\u001b[0m\n",
      "\u001b[?25hCollecting numpy>=1.23.2 (from pandas)\n",
      "  Downloading numpy-2.2.3-cp311-cp311-manylinux_2_17_x86_64.manylinux2014_x86_64.whl.metadata (62 kB)\n",
      "\u001b[2K     \u001b[90m━━━━━━━━━━━━━━━━━━━━━━━━━━━━━━━━━━━━━━━━\u001b[0m \u001b[32m62.0/62.0 kB\u001b[0m \u001b[31m10.4 MB/s\u001b[0m eta \u001b[36m0:00:00\u001b[0m\n",
      "\u001b[?25hRequirement already satisfied: python-dateutil>=2.8.2 in /home/vscode/.local/lib/python3.11/site-packages (from pandas) (2.9.0.post0)\n",
      "Collecting pytz>=2020.1 (from pandas)\n",
      "  Downloading pytz-2025.1-py2.py3-none-any.whl.metadata (22 kB)\n",
      "Collecting tzdata>=2022.7 (from pandas)\n",
      "  Downloading tzdata-2025.1-py2.py3-none-any.whl.metadata (1.4 kB)\n",
      "Requirement already satisfied: six>=1.5 in /home/vscode/.local/lib/python3.11/site-packages (from python-dateutil>=2.8.2->pandas) (1.17.0)\n",
      "Downloading pandas-2.2.3-cp311-cp311-manylinux_2_17_x86_64.manylinux2014_x86_64.whl (13.1 MB)\n",
      "\u001b[2K   \u001b[90m━━━━━━━━━━━━━━━━━━━━━━━━━━━━━━━━━━━━━━━━\u001b[0m \u001b[32m13.1/13.1 MB\u001b[0m \u001b[31m33.5 MB/s\u001b[0m eta \u001b[36m0:00:00\u001b[0m:00:01\u001b[0m:01\u001b[0m\n",
      "\u001b[?25hDownloading numpy-2.2.3-cp311-cp311-manylinux_2_17_x86_64.manylinux2014_x86_64.whl (16.4 MB)\n",
      "\u001b[2K   \u001b[90m━━━━━━━━━━━━━━━━━━━━━━━━━━━━━━━━━━━━━━━━\u001b[0m \u001b[32m16.4/16.4 MB\u001b[0m \u001b[31m34.6 MB/s\u001b[0m eta \u001b[36m0:00:00\u001b[0m:00:01\u001b[0m00:01\u001b[0m\n",
      "\u001b[?25hDownloading pytz-2025.1-py2.py3-none-any.whl (507 kB)\n",
      "\u001b[2K   \u001b[90m━━━━━━━━━━━━━━━━━━━━━━━━━━━━━━━━━━━━━━━━\u001b[0m \u001b[32m507.9/507.9 kB\u001b[0m \u001b[31m39.0 MB/s\u001b[0m eta \u001b[36m0:00:00\u001b[0m\n",
      "\u001b[?25hDownloading tzdata-2025.1-py2.py3-none-any.whl (346 kB)\n",
      "\u001b[2K   \u001b[90m━━━━━━━━━━━━━━━━━━━━━━━━━━━━━━━━━━━━━━━━\u001b[0m \u001b[32m346.8/346.8 kB\u001b[0m \u001b[31m31.6 MB/s\u001b[0m eta \u001b[36m0:00:00\u001b[0m\n",
      "\u001b[?25hInstalling collected packages: pytz, tzdata, numpy, pandas\n",
      "Successfully installed numpy-2.2.3 pandas-2.2.3 pytz-2025.1 tzdata-2025.1\n",
      "\n",
      "\u001b[1m[\u001b[0m\u001b[34;49mnotice\u001b[0m\u001b[1;39;49m]\u001b[0m\u001b[39;49m A new release of pip is available: \u001b[0m\u001b[31;49m24.0\u001b[0m\u001b[39;49m -> \u001b[0m\u001b[32;49m25.0.1\u001b[0m\n",
      "\u001b[1m[\u001b[0m\u001b[34;49mnotice\u001b[0m\u001b[1;39;49m]\u001b[0m\u001b[39;49m To update, run: \u001b[0m\u001b[32;49mpip install --upgrade pip\u001b[0m\n",
      "Note: you may need to restart the kernel to use updated packages.\n"
     ]
    }
   ],
   "source": [
    "%pip install pandas"
   ]
  },
  {
   "cell_type": "code",
   "execution_count": 6,
   "metadata": {},
   "outputs": [],
   "source": [
    "#importación de librerías\n",
    "import requests\n",
    "import json\n",
    "from pprint import pprint\n",
    "import pandas as pd"
   ]
  },
  {
   "cell_type": "code",
   "execution_count": 7,
   "metadata": {},
   "outputs": [
    {
     "name": "stdout",
     "output_type": "stream",
     "text": [
      "      identificador         fuente        fecha_publicación  \\\n",
      "0     CVE-1999-0095  cve@mitre.org  1988-10-01T04:00:00.000   \n",
      "1     CVE-1999-0082  cve@mitre.org  1988-11-11T05:00:00.000   \n",
      "2     CVE-1999-1471  cve@mitre.org  1989-01-01T05:00:00.000   \n",
      "3     CVE-1999-1122  cve@mitre.org  1989-07-26T04:00:00.000   \n",
      "4     CVE-1999-1467  cve@mitre.org  1989-10-26T04:00:00.000   \n",
      "...             ...            ...                      ...   \n",
      "1995  CVE-2000-0462  cve@mitre.org  2000-05-28T04:00:00.000   \n",
      "1996  CVE-2000-0454  cve@mitre.org  2000-05-29T04:00:00.000   \n",
      "1997  CVE-2000-0455  cve@mitre.org  2000-05-29T04:00:00.000   \n",
      "1998  CVE-2000-0461  cve@mitre.org  2000-05-29T04:00:00.000   \n",
      "1999  CVE-2000-0564  cve@mitre.org  2000-05-29T04:00:00.000   \n",
      "\n",
      "           fecha_modicicación    estado  \n",
      "0     2024-11-20T23:27:50.607  Modified  \n",
      "1     2024-11-20T23:27:48.337  Modified  \n",
      "2     2024-11-20T23:31:11.753  Modified  \n",
      "3     2024-11-20T23:30:21.757  Modified  \n",
      "4     2024-11-20T23:31:11.203  Modified  \n",
      "...                       ...       ...  \n",
      "1995  2024-11-20T23:32:33.683  Modified  \n",
      "1996  2024-11-20T23:32:32.553  Modified  \n",
      "1997  2024-11-20T23:32:32.713  Modified  \n",
      "1998  2024-11-20T23:32:33.537  Modified  \n",
      "1999  2024-11-20T23:32:47.313  Modified  \n",
      "\n",
      "[2000 rows x 5 columns]\n"
     ]
    }
   ],
   "source": [
    "url = \"https://services.nvd.nist.gov/rest/json/cves/2.0\"\n",
    "lista = []\n",
    "\n",
    "\n",
    "# permite recuperar datos de un servidor web\n",
    "response = requests.get(url)\n",
    "#condicional  para verificar si la respuesta de un servidor web a una solicitud fue exitosa\n",
    "if response.status_code == 200:\n",
    "    response_json = json.loads(response.text)\n",
    "    #ciclo repetitivo para recorrer el objeto .json\n",
    "    for i in response_json[\"vulnerabilities\"]:\n",
    "        #ciclo repetitivo para tomar solo 10 registros de la api\n",
    "        \n",
    "         id = i[\"cve\"][\"id\"]\n",
    "         publicacion = i[\"cve\"][\"published\"]\n",
    "         modificacion = i[\"cve\"][ \"lastModified\"]\n",
    "         estado=  i[\"cve\"][\"vulnStatus\"]\n",
    "         fuente = i[\"cve\"][ \"sourceIdentifier\"]\n",
    "         #agregar al arreglo los valores de las variables\n",
    "         dic = {\"identificador\":id,\"fuente\":fuente,\"fecha_publicación\":publicacion,\"fecha_modicicación\":modificacion,\"estado\":estado}\n",
    "         #agregar a la lista los diccionarios \n",
    "         lista.append(dic)\n",
    "\n",
    "\n",
    "\n",
    "#creación de dataframe desde la lista\n",
    "df = pd.DataFrame(lista)\n",
    "pprint(df)"
   ]
  },
  {
   "cell_type": "code",
   "execution_count": null,
   "metadata": {},
   "outputs": [
    {
     "data": {
      "text/html": [
       "<div>\n",
       "<style scoped>\n",
       "    .dataframe tbody tr th:only-of-type {\n",
       "        vertical-align: middle;\n",
       "    }\n",
       "\n",
       "    .dataframe tbody tr th {\n",
       "        vertical-align: top;\n",
       "    }\n",
       "\n",
       "    .dataframe thead th {\n",
       "        text-align: right;\n",
       "    }\n",
       "</style>\n",
       "<table border=\"1\" class=\"dataframe\">\n",
       "  <thead>\n",
       "    <tr style=\"text-align: right;\">\n",
       "      <th></th>\n",
       "      <th>identificador</th>\n",
       "      <th>fuente</th>\n",
       "      <th>fecha_publicación</th>\n",
       "      <th>fecha_modicicación</th>\n",
       "      <th>estado</th>\n",
       "    </tr>\n",
       "  </thead>\n",
       "  <tbody>\n",
       "    <tr>\n",
       "      <th>0</th>\n",
       "      <td>False</td>\n",
       "      <td>False</td>\n",
       "      <td>False</td>\n",
       "      <td>False</td>\n",
       "      <td>False</td>\n",
       "    </tr>\n",
       "    <tr>\n",
       "      <th>1</th>\n",
       "      <td>False</td>\n",
       "      <td>False</td>\n",
       "      <td>False</td>\n",
       "      <td>False</td>\n",
       "      <td>False</td>\n",
       "    </tr>\n",
       "    <tr>\n",
       "      <th>2</th>\n",
       "      <td>False</td>\n",
       "      <td>False</td>\n",
       "      <td>False</td>\n",
       "      <td>False</td>\n",
       "      <td>False</td>\n",
       "    </tr>\n",
       "    <tr>\n",
       "      <th>3</th>\n",
       "      <td>False</td>\n",
       "      <td>False</td>\n",
       "      <td>False</td>\n",
       "      <td>False</td>\n",
       "      <td>False</td>\n",
       "    </tr>\n",
       "    <tr>\n",
       "      <th>4</th>\n",
       "      <td>False</td>\n",
       "      <td>False</td>\n",
       "      <td>False</td>\n",
       "      <td>False</td>\n",
       "      <td>False</td>\n",
       "    </tr>\n",
       "    <tr>\n",
       "      <th>...</th>\n",
       "      <td>...</td>\n",
       "      <td>...</td>\n",
       "      <td>...</td>\n",
       "      <td>...</td>\n",
       "      <td>...</td>\n",
       "    </tr>\n",
       "    <tr>\n",
       "      <th>1995</th>\n",
       "      <td>False</td>\n",
       "      <td>False</td>\n",
       "      <td>False</td>\n",
       "      <td>False</td>\n",
       "      <td>False</td>\n",
       "    </tr>\n",
       "    <tr>\n",
       "      <th>1996</th>\n",
       "      <td>False</td>\n",
       "      <td>False</td>\n",
       "      <td>False</td>\n",
       "      <td>False</td>\n",
       "      <td>False</td>\n",
       "    </tr>\n",
       "    <tr>\n",
       "      <th>1997</th>\n",
       "      <td>False</td>\n",
       "      <td>False</td>\n",
       "      <td>False</td>\n",
       "      <td>False</td>\n",
       "      <td>False</td>\n",
       "    </tr>\n",
       "    <tr>\n",
       "      <th>1998</th>\n",
       "      <td>False</td>\n",
       "      <td>False</td>\n",
       "      <td>False</td>\n",
       "      <td>False</td>\n",
       "      <td>False</td>\n",
       "    </tr>\n",
       "    <tr>\n",
       "      <th>1999</th>\n",
       "      <td>False</td>\n",
       "      <td>False</td>\n",
       "      <td>False</td>\n",
       "      <td>False</td>\n",
       "      <td>False</td>\n",
       "    </tr>\n",
       "  </tbody>\n",
       "</table>\n",
       "<p>2000 rows × 5 columns</p>\n",
       "</div>"
      ],
      "text/plain": [
       "      identificador  fuente  fecha_publicación  fecha_modicicación  estado\n",
       "0             False   False              False               False   False\n",
       "1             False   False              False               False   False\n",
       "2             False   False              False               False   False\n",
       "3             False   False              False               False   False\n",
       "4             False   False              False               False   False\n",
       "...             ...     ...                ...                 ...     ...\n",
       "1995          False   False              False               False   False\n",
       "1996          False   False              False               False   False\n",
       "1997          False   False              False               False   False\n",
       "1998          False   False              False               False   False\n",
       "1999          False   False              False               False   False\n",
       "\n",
       "[2000 rows x 5 columns]"
      ]
     },
     "execution_count": 9,
     "metadata": {},
     "output_type": "execute_result"
    }
   ],
   "source": [
    "#tratamiento de los datos\n",
    "#verificación si esxisten datos nulos dentro del data set\n",
    "df.isnull()"
   ]
  },
  {
   "cell_type": "code",
   "execution_count": 10,
   "metadata": {},
   "outputs": [
    {
     "data": {
      "text/plain": [
       "identificador         0\n",
       "fuente                0\n",
       "fecha_publicación     0\n",
       "fecha_modicicación    0\n",
       "estado                0\n",
       "dtype: int64"
      ]
     },
     "execution_count": 10,
     "metadata": {},
     "output_type": "execute_result"
    }
   ],
   "source": [
    "#suma de la cantidad de datos nulos\n",
    "df.isnull().sum()"
   ]
  },
  {
   "cell_type": "code",
   "execution_count": 12,
   "metadata": {},
   "outputs": [
    {
     "name": "stdout",
     "output_type": "stream",
     "text": [
      "identificador         object\n",
      "fuente                object\n",
      "fecha_publicación     object\n",
      "fecha_modicicación    object\n",
      "estado                object\n",
      "dtype: object\n"
     ]
    }
   ],
   "source": [
    "# tipos de datos\n",
    "tipo_datos = df.dtypes\n",
    "pprint(tipo_datos)"
   ]
  },
  {
   "cell_type": "code",
   "execution_count": 14,
   "metadata": {},
   "outputs": [
    {
     "name": "stdout",
     "output_type": "stream",
     "text": [
      "'Tamaño del dataset: 2000 filas y 5\\xa0columnas'\n"
     ]
    }
   ],
   "source": [
    "#despliegue del número de filas y columnas del data set\n",
    "pprint(f\"Tamaño del dataset: {df.shape[0]} filas y {df.shape[1]} columnas\")"
   ]
  },
  {
   "cell_type": "code",
   "execution_count": 16,
   "metadata": {},
   "outputs": [
    {
     "name": "stdout",
     "output_type": "stream",
     "text": [
      "   identificador         fuente        fecha_publicación  \\\n",
      "0  CVE-1999-0095  cve@mitre.org  1988-10-01T04:00:00.000   \n",
      "1  CVE-1999-0095  cve@mitre.org  1988-10-01T04:00:00.000   \n",
      "2  CVE-1999-0095  cve@mitre.org  1988-10-01T04:00:00.000   \n",
      "3  CVE-1999-0095  cve@mitre.org  1988-10-01T04:00:00.000   \n",
      "4  CVE-1999-0095  cve@mitre.org  1988-10-01T04:00:00.000   \n",
      "5  CVE-1999-0095  cve@mitre.org  1988-10-01T04:00:00.000   \n",
      "6  CVE-1999-0095  cve@mitre.org  1988-10-01T04:00:00.000   \n",
      "7  CVE-1999-0095  cve@mitre.org  1988-10-01T04:00:00.000   \n",
      "8  CVE-1999-0095  cve@mitre.org  1988-10-01T04:00:00.000   \n",
      "9  CVE-1999-0095  cve@mitre.org  1988-10-01T04:00:00.000   \n",
      "\n",
      "        fecha_modicicación    estado  \n",
      "0  2024-11-20T23:27:50.607  Modified  \n",
      "1  2024-11-20T23:27:50.607  Modified  \n",
      "2  2024-11-20T23:27:50.607  Modified  \n",
      "3  2024-11-20T23:27:50.607  Modified  \n",
      "4  2024-11-20T23:27:50.607  Modified  \n",
      "5  2024-11-20T23:27:50.607  Modified  \n",
      "6  2024-11-20T23:27:50.607  Modified  \n",
      "7  2024-11-20T23:27:50.607  Modified  \n",
      "8  2024-11-20T23:27:50.607  Modified  \n",
      "9  2024-11-20T23:27:50.607  Modified  \n"
     ]
    }
   ],
   "source": [
    "#obtención de los primeros 10 datos del dataframe mediante ciclo repetitivo\n",
    "url = \"https://services.nvd.nist.gov/rest/json/cves/2.0\"\n",
    "lista = []\n",
    "\n",
    "contador=1\n",
    "# permite recuperar datos de un servidor web\n",
    "response = requests.get(url)\n",
    "#condicional  para verificar si la respuesta de un servidor web a una solicitud fue exitosa\n",
    "if response.status_code == 200:\n",
    "    response_json = json.loads(response.text)\n",
    "    #ciclo repetitivo para recorrer el objeto .json\n",
    "    for i in response_json[\"vulnerabilities\"]:\n",
    "        #ciclo repetitivo para tomar solo 10 registros de la api\n",
    "        while contador <=10:\n",
    "         contador += 1\n",
    "         id = i[\"cve\"][\"id\"]\n",
    "         publicacion = i[\"cve\"][\"published\"]\n",
    "         modificacion = i[\"cve\"][ \"lastModified\"]\n",
    "         estado=  i[\"cve\"][\"vulnStatus\"]\n",
    "         fuente = i[\"cve\"][ \"sourceIdentifier\"]\n",
    "         #agregar al arreglo los valores de las variables\n",
    "         dic = {\"identificador\":id,\"fuente\":fuente,\"fecha_publicación\":publicacion,\"fecha_modicicación\":modificacion,\"estado\":estado}\n",
    "         #agregar a la lista los diccionarios \n",
    "         lista.append(dic)\n",
    "\n",
    "#impresión de la lista que contiene 10 registros \n",
    "#print(lista)\n",
    "\n",
    "#creación de dataframe desde la lista\n",
    "df = pd.DataFrame(lista)\n",
    "pprint(df)"
   ]
  }
 ],
 "metadata": {
  "kernelspec": {
   "display_name": "Python 3",
   "language": "python",
   "name": "python3"
  },
  "language_info": {
   "codemirror_mode": {
    "name": "ipython",
    "version": 3
   },
   "file_extension": ".py",
   "mimetype": "text/x-python",
   "name": "python",
   "nbconvert_exporter": "python",
   "pygments_lexer": "ipython3",
   "version": "3.11.11"
  }
 },
 "nbformat": 4,
 "nbformat_minor": 2
}
